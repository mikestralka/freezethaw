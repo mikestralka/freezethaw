{
 "cells": [
  {
   "cell_type": "code",
   "execution_count": 16,
   "metadata": {},
   "outputs": [],
   "source": [
    "%matplotlib inline\n",
    "import numpy as np\n",
    "import pandas as pd\n",
    "import matplotlib.pyplot as plt\n",
    "\n",
    "weather = pd.read_csv(r'data/mspDailyWeather.csv')"
   ]
  },
  {
   "cell_type": "code",
   "execution_count": 17,
   "metadata": {},
   "outputs": [],
   "source": [
    "i = 0\n",
    "years = []\n",
    "while i < len(weather):\n",
    "    years.append(int(weather['Date'][i].split('/')[-1]))\n",
    "    i += 1\n",
    "weather[\"Year\"] = years"
   ]
  },
  {
   "cell_type": "code",
   "execution_count": 18,
   "metadata": {},
   "outputs": [
    {
     "data": {
      "text/plain": [
       "Index([u'Date', u'Maximum Temperature degrees (F)',\n",
       "       u'Minimum Temperature degrees (F)', u'Precipitation (inches)',\n",
       "       u'Snow (inches)', u'Snow Depth (inches)', u'Year'],\n",
       "      dtype='object')"
      ]
     },
     "execution_count": 18,
     "metadata": {},
     "output_type": "execute_result"
    }
   ],
   "source": [
    "weather.columns"
   ]
  },
  {
   "cell_type": "code",
   "execution_count": 19,
   "metadata": {},
   "outputs": [],
   "source": [
    "# clean up the high temp values\n",
    "weather['Maximum Temperature degrees (F)'] = weather['Maximum Temperature degrees (F)'].replace(\n",
    "    'T',np.nan).replace('M',np.nan)"
   ]
  },
  {
   "cell_type": "code",
   "execution_count": 20,
   "metadata": {},
   "outputs": [],
   "source": [
    "# clean up the low temp values and make them floats\n",
    "weather['Minimum Temperature degrees (F)'] = weather['Minimum Temperature degrees (F)'].replace(\n",
    "    'T',np.nan).replace('M',np.nan).astype('float64')"
   ]
  },
  {
   "cell_type": "code",
   "execution_count": 21,
   "metadata": {},
   "outputs": [],
   "source": [
    "# clean up snow depth and convert to float\n",
    "weather['Snow Depth (inches)'] = weather['Snow Depth (inches)'].replace('T',np.nan).replace('M',np.nan).astype('float64')"
   ]
  },
  {
   "cell_type": "code",
   "execution_count": 22,
   "metadata": {},
   "outputs": [
    {
     "data": {
      "text/html": [
       "<div>\n",
       "<style scoped>\n",
       "    .dataframe tbody tr th:only-of-type {\n",
       "        vertical-align: middle;\n",
       "    }\n",
       "\n",
       "    .dataframe tbody tr th {\n",
       "        vertical-align: top;\n",
       "    }\n",
       "\n",
       "    .dataframe thead th {\n",
       "        text-align: right;\n",
       "    }\n",
       "</style>\n",
       "<table border=\"1\" class=\"dataframe\">\n",
       "  <thead>\n",
       "    <tr style=\"text-align: right;\">\n",
       "      <th></th>\n",
       "      <th>Date</th>\n",
       "      <th>Maximum Temperature degrees (F)</th>\n",
       "      <th>Minimum Temperature degrees (F)</th>\n",
       "      <th>Precipitation (inches)</th>\n",
       "      <th>Snow (inches)</th>\n",
       "      <th>Snow Depth (inches)</th>\n",
       "      <th>Year</th>\n",
       "    </tr>\n",
       "  </thead>\n",
       "  <tbody>\n",
       "    <tr>\n",
       "      <th>0</th>\n",
       "      <td>4/1/1938</td>\n",
       "      <td>31</td>\n",
       "      <td>18.0</td>\n",
       "      <td>T</td>\n",
       "      <td>M</td>\n",
       "      <td>NaN</td>\n",
       "      <td>1938</td>\n",
       "    </tr>\n",
       "    <tr>\n",
       "      <th>1</th>\n",
       "      <td>4/2/1938</td>\n",
       "      <td>31</td>\n",
       "      <td>17.0</td>\n",
       "      <td>0</td>\n",
       "      <td>M</td>\n",
       "      <td>NaN</td>\n",
       "      <td>1938</td>\n",
       "    </tr>\n",
       "    <tr>\n",
       "      <th>2</th>\n",
       "      <td>4/3/1938</td>\n",
       "      <td>37</td>\n",
       "      <td>26.0</td>\n",
       "      <td>T</td>\n",
       "      <td>M</td>\n",
       "      <td>NaN</td>\n",
       "      <td>1938</td>\n",
       "    </tr>\n",
       "    <tr>\n",
       "      <th>3</th>\n",
       "      <td>4/4/1938</td>\n",
       "      <td>35</td>\n",
       "      <td>20.0</td>\n",
       "      <td>0</td>\n",
       "      <td>M</td>\n",
       "      <td>NaN</td>\n",
       "      <td>1938</td>\n",
       "    </tr>\n",
       "    <tr>\n",
       "      <th>4</th>\n",
       "      <td>4/5/1938</td>\n",
       "      <td>33</td>\n",
       "      <td>20.0</td>\n",
       "      <td>0</td>\n",
       "      <td>M</td>\n",
       "      <td>NaN</td>\n",
       "      <td>1938</td>\n",
       "    </tr>\n",
       "  </tbody>\n",
       "</table>\n",
       "</div>"
      ],
      "text/plain": [
       "       Date  Maximum Temperature degrees (F)  Minimum Temperature degrees (F)  \\\n",
       "0  4/1/1938                               31                             18.0   \n",
       "1  4/2/1938                               31                             17.0   \n",
       "2  4/3/1938                               37                             26.0   \n",
       "3  4/4/1938                               35                             20.0   \n",
       "4  4/5/1938                               33                             20.0   \n",
       "\n",
       "  Precipitation (inches) Snow (inches)  Snow Depth (inches)  Year  \n",
       "0                      T             M                  NaN  1938  \n",
       "1                      0             M                  NaN  1938  \n",
       "2                      T             M                  NaN  1938  \n",
       "3                      0             M                  NaN  1938  \n",
       "4                      0             M                  NaN  1938  "
      ]
     },
     "execution_count": 22,
     "metadata": {},
     "output_type": "execute_result"
    }
   ],
   "source": [
    "weather.head()"
   ]
  },
  {
   "cell_type": "code",
   "execution_count": 23,
   "metadata": {
    "scrolled": true
   },
   "outputs": [
    {
     "data": {
      "text/plain": [
       "Text(0.5,1,'Last 50 Years')"
      ]
     },
     "execution_count": 23,
     "metadata": {},
     "output_type": "execute_result"
    },
    {
     "data": {
      "image/png": "[encoded data removed]",
      "text/plain": [
       "<Figure size 432x288 with 1 Axes>"
      ]
     },
     "metadata": {},
     "output_type": "display_data"
    }
   ],
   "source": [
    "# freezeThaw isn't getting any values here for some reason\n",
    "freezeThaw = weather[(weather['Maximum Temperature degrees (F)'] >= 36.0)\n",
    "                     & (weather['Minimum Temperature degrees (F)'] <= 24.0)\n",
    "                     & (weather['Snow Depth (inches)']>=1.0)\n",
    "                     & (weather.Year > 1967)]\n",
    "plot0 = freezeThaw.groupby('Year').size().plot()\n",
    "plot0.set_ylabel('Days')\n",
    "plot0.set_title(\"Last 50 Years\")"
   ]
  },
  {
   "cell_type": "code",
   "execution_count": 24,
   "metadata": {},
   "outputs": [
    {
     "data": {
      "text/plain": [
       "Text(0.5,1,'Loose Definition')"
      ]
     },
     "execution_count": 24,
     "metadata": {},
     "output_type": "execute_result"
    },
    {
     "data": {
      "image/png": "[encoded data removed]",
      "text/plain": [
       "<Figure size 432x288 with 1 Axes>"
      ]
     },
     "metadata": {},
     "output_type": "display_data"
    }
   ],
   "source": [
    "freezeThaw1 = weather[(weather['Maximum Temperature degrees (F)'] >= 34.0)\n",
    "                     & (weather['Minimum Temperature degrees (F)']<= 30.0)\n",
    "                     & (weather['Snow Depth (inches)']>=1.0)\n",
    "                     & (weather.Year > 2003)]\n",
    "plot2 = freezeThaw1.groupby('Year').size().plot(kind=\"bar\")\n",
    "plot2.set_ylabel('Days')\n",
    "plot2.set_title('Loose Definition')"
   ]
  },
  {
   "cell_type": "code",
   "execution_count": 25,
   "metadata": {},
   "outputs": [
    {
     "data": {
      "text/plain": [
       "Text(0.5,1,'Strict Definition')"
      ]
     },
     "execution_count": 25,
     "metadata": {},
     "output_type": "execute_result"
    },
    {
     "data": {
      "image/png": "[encoded data removed]",
      "text/plain": [
       "<Figure size 432x288 with 1 Axes>"
      ]
     },
     "metadata": {},
     "output_type": "display_data"
    }
   ],
   "source": [
    "freezeThaw2 = weather[(weather['Maximum Temperature degrees (F)'] >= 36.0)\n",
    "                     & (weather['Minimum Temperature degrees (F)']<= 24.0)\n",
    "                     & (weather['Snow Depth (inches)']>=1.0)\n",
    "                     & (weather.Year > 2003)]\n",
    "plot3 = freezeThaw2.groupby('Year').size().plot(kind=\"bar\")\n",
    "plot3.set_ylabel('Days')\n",
    "plot3.set_title('Strict Definition')"
   ]
  },
  {
   "cell_type": "code",
   "execution_count": 18,
   "metadata": {},
   "outputs": [],
   "source": [
    "#plot2.figure.savefig(r\"loose.png\",dpi=300)"
   ]
  },
  {
   "cell_type": "code",
   "execution_count": null,
   "metadata": {},
   "outputs": [],
   "source": []
  }
 ],
 "metadata": {
  "kernelspec": {
   "display_name": "Python [default]",
   "language": "python",
   "name": "python2"
  },
  "language_info": {
   "codemirror_mode": {
    "name": "ipython",
    "version": 2
   },
   "file_extension": ".py",
   "mimetype": "text/x-python",
   "name": "python",
   "nbconvert_exporter": "python",
   "pygments_lexer": "ipython2",
   "version": "2.7.14"
  }
 },
 "nbformat": 4,
 "nbformat_minor": 2
}
