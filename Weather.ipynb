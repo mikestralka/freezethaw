{
 "cells": [
  {
   "cell_type": "code",
   "execution_count": 1,
   "metadata": {},
   "outputs": [],
   "source": [
    "import pandas as pd\n",
    "\n",
    "weather = pd.read_csv(r'data/DataDowloadCSV.csv')\n",
    "#this csv is like a million rows\n"
   ]
  },
  {
   "cell_type": "code",
   "execution_count": 2,
   "metadata": {},
   "outputs": [],
   "source": [
    "i = 0\n",
    "years = []\n",
    "while i < len(weather):\n",
    "    years.append(int(weather['Date'][i].split('-')[0]))\n",
    "    i += 1\n",
    "weather[\"Year\"] = years"
   ]
  },
  {
   "cell_type": "code",
   "execution_count": 3,
   "metadata": {},
   "outputs": [
    {
     "data": {
      "text/plain": [
       "Index([u'Date', u'Maximum Temperature degrees (F)',\n",
       "       u'Minimum Temperature degrees (F)', u'Precipitation (inches)',\n",
       "       u'Snow (inches)', u'Snow Depth (inches)', u'Year'],\n",
       "      dtype='object')"
      ]
     },
     "execution_count": 3,
     "metadata": {},
     "output_type": "execute_result"
    }
   ],
   "source": [
    "weather.columns"
   ]
  },
  {
   "cell_type": "code",
   "execution_count": 15,
   "metadata": {},
   "outputs": [],
   "source": [
    "# need to make the low temps floats (the highs already are)\n",
    "weather['Minimum Temperature degrees (F)'] = weather['Minimum Temperature degrees (F)'].astype('float64')"
   ]
  },
  {
   "cell_type": "code",
   "execution_count": null,
   "metadata": {},
   "outputs": [],
   "source": [
    "# next step: try to add the snow depth to the conditional selection\n",
    "# there are these \"T\" values that I do not understand\n",
    "weather['Snow Depth (inches)'] = weather['Snow Depth (inches)'].replace('T',0.0).replace('M',0.0).astype('float64')"
   ]
  },
  {
   "cell_type": "code",
   "execution_count": null,
   "metadata": {},
   "outputs": [],
   "source": [
    "freezeThaw = weather[(weather['Maximum Temperature degrees (F)'] >= 34.0)\n",
    "                     & (weather['Minimum Temperature degrees (F)']<= 28.0)\n",
    "                     & (weather['Snow Depth (inches)']>=1.0)\n",
    "                     & (weather.Year > 1996)]"
   ]
  },
  {
   "cell_type": "code",
   "execution_count": null,
   "metadata": {},
   "outputs": [],
   "source": [
    "annualFT = freezeThaw.groupby('Year').size()"
   ]
  },
  {
   "cell_type": "code",
   "execution_count": null,
   "metadata": {},
   "outputs": [],
   "source": [
    "annualFT.plot(kind=\"bar\")"
   ]
  },
  {
   "cell_type": "code",
   "execution_count": null,
   "metadata": {},
   "outputs": [],
   "source": [
    "freezeThaw1 = weather[(weather['Maximum Temperature degrees (F)'] >= 38.0)\n",
    "                     & (weather['Minimum Temperature degrees (F)']<= 22.0)\n",
    "                     & (weather['Snow Depth (inches)']>=1.0)\n",
    "                     & (weather.Year > 1996)]\n",
    "freezeThaw1.groupby('Year').size().plot(kind=\"bar\")"
   ]
  },
  {
   "cell_type": "code",
   "execution_count": 4,
   "metadata": {},
   "outputs": [
    {
     "data": {
      "text/html": [
       "<div>\n",
       "<style scoped>\n",
       "    .dataframe tbody tr th:only-of-type {\n",
       "        vertical-align: middle;\n",
       "    }\n",
       "\n",
       "    .dataframe tbody tr th {\n",
       "        vertical-align: top;\n",
       "    }\n",
       "\n",
       "    .dataframe thead th {\n",
       "        text-align: right;\n",
       "    }\n",
       "</style>\n",
       "<table border=\"1\" class=\"dataframe\">\n",
       "  <thead>\n",
       "    <tr style=\"text-align: right;\">\n",
       "      <th></th>\n",
       "      <th>Date</th>\n",
       "      <th>Maximum Temperature degrees (F)</th>\n",
       "      <th>Minimum Temperature degrees (F)</th>\n",
       "      <th>Precipitation (inches)</th>\n",
       "      <th>Snow (inches)</th>\n",
       "      <th>Snow Depth (inches)</th>\n",
       "      <th>Year</th>\n",
       "    </tr>\n",
       "  </thead>\n",
       "  <tbody>\n",
       "    <tr>\n",
       "      <th>6850</th>\n",
       "      <td>1957-01-01</td>\n",
       "      <td>11.0</td>\n",
       "      <td>-3.0</td>\n",
       "      <td>0.00</td>\n",
       "      <td>0.00</td>\n",
       "      <td>0.00</td>\n",
       "      <td>1957</td>\n",
       "    </tr>\n",
       "    <tr>\n",
       "      <th>6851</th>\n",
       "      <td>1957-01-02</td>\n",
       "      <td>27.0</td>\n",
       "      <td>0.0</td>\n",
       "      <td>0.00</td>\n",
       "      <td>0.00</td>\n",
       "      <td>0.00</td>\n",
       "      <td>1957</td>\n",
       "    </tr>\n",
       "    <tr>\n",
       "      <th>6852</th>\n",
       "      <td>1957-01-03</td>\n",
       "      <td>35.0</td>\n",
       "      <td>19.0</td>\n",
       "      <td>0.10</td>\n",
       "      <td>1.10</td>\n",
       "      <td>0.00</td>\n",
       "      <td>1957</td>\n",
       "    </tr>\n",
       "    <tr>\n",
       "      <th>6853</th>\n",
       "      <td>1957-01-04</td>\n",
       "      <td>19.0</td>\n",
       "      <td>6.0</td>\n",
       "      <td>T</td>\n",
       "      <td>T</td>\n",
       "      <td>1.00</td>\n",
       "      <td>1957</td>\n",
       "    </tr>\n",
       "    <tr>\n",
       "      <th>6854</th>\n",
       "      <td>1957-01-05</td>\n",
       "      <td>25.0</td>\n",
       "      <td>3.0</td>\n",
       "      <td>T</td>\n",
       "      <td>T</td>\n",
       "      <td>1.00</td>\n",
       "      <td>1957</td>\n",
       "    </tr>\n",
       "  </tbody>\n",
       "</table>\n",
       "</div>"
      ],
      "text/plain": [
       "            Date  Maximum Temperature degrees (F)  \\\n",
       "6850  1957-01-01                             11.0   \n",
       "6851  1957-01-02                             27.0   \n",
       "6852  1957-01-03                             35.0   \n",
       "6853  1957-01-04                             19.0   \n",
       "6854  1957-01-05                             25.0   \n",
       "\n",
       "     Minimum Temperature degrees (F) Precipitation (inches) Snow (inches)  \\\n",
       "6850                            -3.0                   0.00          0.00   \n",
       "6851                             0.0                   0.00          0.00   \n",
       "6852                            19.0                   0.10          1.10   \n",
       "6853                             6.0                      T             T   \n",
       "6854                             3.0                      T             T   \n",
       "\n",
       "     Snow Depth (inches)  Year  \n",
       "6850                0.00  1957  \n",
       "6851                0.00  1957  \n",
       "6852                0.00  1957  \n",
       "6853                1.00  1957  \n",
       "6854                1.00  1957  "
      ]
     },
     "execution_count": 4,
     "metadata": {},
     "output_type": "execute_result"
    }
   ],
   "source": [
    "weather = weather[weather.Year > 1956]\n",
    "weather.head()"
   ]
  },
  {
   "cell_type": "code",
   "execution_count": 5,
   "metadata": {},
   "outputs": [],
   "source": [
    "weather.to_csv(r\"data/truncatedWeather.csv\")"
   ]
  },
  {
   "cell_type": "code",
   "execution_count": null,
   "metadata": {},
   "outputs": [],
   "source": []
  }
 ],
 "metadata": {
  "kernelspec": {
   "display_name": "Python [default]",
   "language": "python",
   "name": "python2"
  },
  "language_info": {
   "codemirror_mode": {
    "name": "ipython",
    "version": 2
   },
   "file_extension": ".py",
   "mimetype": "text/x-python",
   "name": "python",
   "nbconvert_exporter": "python",
   "pygments_lexer": "ipython2",
   "version": "2.7.14"
  }
 },
 "nbformat": 4,
 "nbformat_minor": 2
}
