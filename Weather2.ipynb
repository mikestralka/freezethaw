{
 "cells": [
  {
   "cell_type": "code",
   "execution_count": 1,
   "metadata": {},
   "outputs": [],
   "source": [
    "import pandas as pd\n",
    "\n",
    "weather = pd.read_csv(r'data/truncatedWeather.csv')\n",
    "#this csv has a year field and has been truncated to 1957"
   ]
  },
  {
   "cell_type": "code",
   "execution_count": 2,
   "metadata": {},
   "outputs": [
    {
     "data": {
      "text/plain": [
       "Index([u'Unnamed: 0', u'Date', u'Maximum Temperature degrees (F)',\n",
       "       u'Minimum Temperature degrees (F)', u'Precipitation (inches)',\n",
       "       u'Snow (inches)', u'Snow Depth (inches)', u'Year'],\n",
       "      dtype='object')"
      ]
     },
     "execution_count": 2,
     "metadata": {},
     "output_type": "execute_result"
    }
   ],
   "source": [
    "weather.columns"
   ]
  },
  {
   "cell_type": "code",
   "execution_count": 3,
   "metadata": {},
   "outputs": [],
   "source": [
    "# need to make the low temps floats (the highs already are)\n",
    "weather['Minimum Temperature degrees (F)'] = weather['Minimum Temperature degrees (F)'].astype('float64')"
   ]
  },
  {
   "cell_type": "code",
   "execution_count": 4,
   "metadata": {},
   "outputs": [],
   "source": [
    "# next step: try to add the snow depth to the conditional selection\n",
    "# there are these \"T\" values that I do not understand\n",
    "weather['Snow Depth (inches)'] = weather['Snow Depth (inches)'].replace('T',0.0).replace('M',0.0).astype('float64')"
   ]
  },
  {
   "cell_type": "code",
   "execution_count": 17,
   "metadata": {},
   "outputs": [
    {
     "data": {
      "text/plain": [
       "<matplotlib.axes._subplots.AxesSubplot at 0xe956748>"
      ]
     },
     "execution_count": 17,
     "metadata": {},
     "output_type": "execute_result"
    },
    {
     "data": {
      "image/png": "[encoded data removed]",
      "text/plain": [
       "<matplotlib.figure.Figure at 0xe3f0048>"
      ]
     },
     "metadata": {},
     "output_type": "display_data"
    }
   ],
   "source": [
    "freezeThaw = weather[(weather['Maximum Temperature degrees (F)'] > 32.0)\n",
    "                     & (weather['Minimum Temperature degrees (F)'] < 32.0)\n",
    "                     & (weather['Snow Depth (inches)']>=1.0)\n",
    "                     & (weather.Year > 1997)]\n",
    "freezeThaw.groupby('Year').size().plot(kind=\"bar\")"
   ]
  },
  {
   "cell_type": "code",
   "execution_count": 18,
   "metadata": {},
   "outputs": [
    {
     "data": {
      "text/plain": [
       "<matplotlib.axes._subplots.AxesSubplot at 0xec6ca90>"
      ]
     },
     "execution_count": 18,
     "metadata": {},
     "output_type": "execute_result"
    },
    {
     "data": {
      "image/png": "[encoded data removed]",
      "text/plain": [
       "<matplotlib.figure.Figure at 0xec924a8>"
      ]
     },
     "metadata": {},
     "output_type": "display_data"
    }
   ],
   "source": [
    "freezeThaw1 = weather[(weather['Maximum Temperature degrees (F)'] >= 34.0)\n",
    "                     & (weather['Minimum Temperature degrees (F)']<= 30.0)\n",
    "                     & (weather['Snow Depth (inches)']>=1.0)\n",
    "                     & (weather.Year > 1997)]\n",
    "freezeThaw1.groupby('Year').size().plot(kind=\"bar\")"
   ]
  },
  {
   "cell_type": "code",
   "execution_count": 19,
   "metadata": {},
   "outputs": [
    {
     "data": {
      "text/plain": [
       "<matplotlib.axes._subplots.AxesSubplot at 0xeefe198>"
      ]
     },
     "execution_count": 19,
     "metadata": {},
     "output_type": "execute_result"
    },
    {
     "data": {
      "image/png": "[encoded data removed]",
      "text/plain": [
       "<matplotlib.figure.Figure at 0xef8e160>"
      ]
     },
     "metadata": {},
     "output_type": "display_data"
    }
   ],
   "source": [
    "freezeThaw2 = weather[(weather['Maximum Temperature degrees (F)'] >= 36.0)\n",
    "                     & (weather['Minimum Temperature degrees (F)']<= 24.0)\n",
    "                     & (weather['Snow Depth (inches)']>=1.0)\n",
    "                     & (weather.Year > 1997)]\n",
    "freezeThaw2.groupby('Year').size().plot(kind=\"bar\")"
   ]
  },
  {
   "cell_type": "code",
   "execution_count": null,
   "metadata": {},
   "outputs": [],
   "source": []
  }
 ],
 "metadata": {
  "kernelspec": {
   "display_name": "Python 2",
   "language": "python",
   "name": "python2"
  },
  "language_info": {
   "codemirror_mode": {
    "name": "ipython",
    "version": 2
   },
   "file_extension": ".py",
   "mimetype": "text/x-python",
   "name": "python",
   "nbconvert_exporter": "python",
   "pygments_lexer": "ipython2",
   "version": "2.7.14"
  }
 },
 "nbformat": 4,
 "nbformat_minor": 2
}
